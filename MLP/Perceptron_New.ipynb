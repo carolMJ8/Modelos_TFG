{
 "cells": [
  {
   "cell_type": "code",
   "execution_count": 1,
   "metadata": {},
   "outputs": [
    {
     "name": "stderr",
     "output_type": "stream",
     "text": [
      "2024-05-15 15:34:27.696156: I tensorflow/core/util/port.cc:113] oneDNN custom operations are on. You may see slightly different numerical results due to floating-point round-off errors from different computation orders. To turn them off, set the environment variable `TF_ENABLE_ONEDNN_OPTS=0`.\n",
      "2024-05-15 15:34:27.729563: E external/local_xla/xla/stream_executor/cuda/cuda_dnn.cc:9261] Unable to register cuDNN factory: Attempting to register factory for plugin cuDNN when one has already been registered\n",
      "2024-05-15 15:34:27.729581: E external/local_xla/xla/stream_executor/cuda/cuda_fft.cc:607] Unable to register cuFFT factory: Attempting to register factory for plugin cuFFT when one has already been registered\n",
      "2024-05-15 15:34:27.730671: E external/local_xla/xla/stream_executor/cuda/cuda_blas.cc:1515] Unable to register cuBLAS factory: Attempting to register factory for plugin cuBLAS when one has already been registered\n",
      "2024-05-15 15:34:27.737270: I tensorflow/core/platform/cpu_feature_guard.cc:182] This TensorFlow binary is optimized to use available CPU instructions in performance-critical operations.\n",
      "To enable the following instructions: AVX2 AVX512F AVX512_VNNI FMA, in other operations, rebuild TensorFlow with the appropriate compiler flags.\n",
      "2024-05-15 15:34:28.393030: W tensorflow/compiler/tf2tensorrt/utils/py_utils.cc:38] TF-TRT Warning: Could not find TensorRT\n"
     ]
    }
   ],
   "source": [
    "import pandas as pd\n",
    "import math\n",
    "import numpy as np\n",
    "import matplotlib.pyplot as plt\n",
    "import tensorflow as tf\n",
    "from tensorflow import keras\n",
    "from tensorflow.keras.models import Sequential, Model\n",
    "from tensorflow.keras.models import load_model\n",
    "from tensorflow.keras.layers import *\n",
    "from tensorflow.keras.callbacks import ModelCheckpoint\n",
    "from tensorflow.keras.losses import MeanSquaredError\n",
    "from tensorflow.keras.metrics import RootMeanSquaredError\n",
    "from tensorflow.keras.optimizers import Adam\n",
    "import GetData as data"
   ]
  },
  {
   "cell_type": "code",
   "execution_count": 2,
   "metadata": {},
   "outputs": [
    {
     "name": "stdout",
     "output_type": "stream",
     "text": [
      "Hecho!\n",
      "\n"
     ]
    }
   ],
   "source": [
    "data_user1_220617_bag, labels_user1_220617_bag = data.get_data_from_datasets('/home/cmonedero/TFG/User1/Motion/User1_220617_Bag.csv', '/home/cmonedero/TFG/User1/220617/Label_New_User1_220617.txt')"
   ]
  },
  {
   "cell_type": "code",
   "execution_count": 4,
   "metadata": {},
   "outputs": [
    {
     "name": "stdout",
     "output_type": "stream",
     "text": [
      "Hecho!\n",
      "\n",
      "Tamaño ventanas X -->  (3651, 500, 6)\n",
      "Tamaño ventanas Y -->  (3651,)\n"
     ]
    }
   ],
   "source": [
    "x_windows_220617_bag, y_windows_220617_bag = data.divide_data_arrays_into_windows(data_user1_220617_bag, labels_user1_220617_bag, moda=True, window_size=500)\n",
    "print(\"Tamaño ventanas X --> \", x_windows_220617_bag.shape)\n",
    "print(\"Tamaño ventanas Y --> \", y_windows_220617_bag.shape)"
   ]
  },
  {
   "cell_type": "code",
   "execution_count": 5,
   "metadata": {},
   "outputs": [
    {
     "name": "stdout",
     "output_type": "stream",
     "text": [
      "Shape x_train --> (2555, 500, 6)\n",
      "Shape y_train --> (2555,)\n",
      "Shape x_test --> (1096, 500, 6)\n",
      "Shape y_train --> (1096,)\n"
     ]
    }
   ],
   "source": [
    "x_train_220617_bag, y_train_220617_bag, x_test_220617_bag, y_test_220617_bag = data.divide_train_test(x_windows_220617_bag, y_windows_220617_bag, 0.7)\n",
    "print(f'Shape x_train --> {x_train_220617_bag.shape}')\n",
    "print(f'Shape y_train --> {y_train_220617_bag.shape}')\n",
    "print(f'Shape x_test --> {x_test_220617_bag.shape}')\n",
    "print(f'Shape y_train --> {y_test_220617_bag.shape}')"
   ]
  },
  {
   "cell_type": "code",
   "execution_count": 6,
   "metadata": {},
   "outputs": [
    {
     "name": "stdout",
     "output_type": "stream",
     "text": [
      "[1 2 5 6]\n"
     ]
    }
   ],
   "source": [
    "print(np.unique(y_train_220617_bag))"
   ]
  },
  {
   "cell_type": "code",
   "execution_count": 7,
   "metadata": {},
   "outputs": [
    {
     "name": "stdout",
     "output_type": "stream",
     "text": [
      "Shape del input despues de Flatten (None, 3000)\n",
      "Shape de la primera capa (None, 3000)\n",
      "Shape de la capa intermedia (None, 1000)\n",
      "Shape de la segunda capa intermedia (None, 500)\n",
      "Shape de la tercera capa intermedia (None, 500)\n",
      "Shape de la capa final (None, 8)\n"
     ]
    },
    {
     "name": "stderr",
     "output_type": "stream",
     "text": [
      "2024-05-15 15:35:01.511676: I tensorflow/core/common_runtime/gpu/gpu_device.cc:1929] Created device /job:localhost/replica:0/task:0/device:GPU:0 with 970 MB memory:  -> device: 0, name: NVIDIA A40, pci bus id: 0000:31:00.0, compute capability: 8.6\n",
      "2024-05-15 15:35:01.514179: I tensorflow/core/common_runtime/gpu/gpu_device.cc:1929] Created device /job:localhost/replica:0/task:0/device:GPU:1 with 40933 MB memory:  -> device: 1, name: NVIDIA A40, pci bus id: 0000:98:00.0, compute capability: 8.6\n"
     ]
    }
   ],
   "source": [
    "inputs = Input(shape=(500,6))\n",
    "x = inputs\n",
    "x = Flatten()(x)\n",
    "print(f'Shape del input despues de Flatten {x.shape}')\n",
    "x = Dense(500*6, activation='relu')(x)\n",
    "print(f'Shape de la primera capa {x.shape}')\n",
    "x = Dense(1000, activation='relu')(x)\n",
    "print(f'Shape de la capa intermedia {x.shape}')\n",
    "x = Dense(500, activation='relu')(x)\n",
    "print(f'Shape de la segunda capa intermedia {x.shape}')\n",
    "x = Dense(500, activation='relu')(x)\n",
    "print(f'Shape de la tercera capa intermedia {x.shape}')\n",
    "outputs = Dense(8, activation='softmax')(x)\n",
    "print(f'Shape de la capa final {outputs.shape}')\n",
    "\n",
    "modelo = keras.Model(inputs, outputs)\n",
    "\n",
    "modelo.compile(loss='sparse_categorical_crossentropy', optimizer=Adam(learning_rate=0.001), metrics=['accuracy'])"
   ]
  },
  {
   "cell_type": "code",
   "execution_count": 10,
   "metadata": {},
   "outputs": [
    {
     "name": "stdout",
     "output_type": "stream",
     "text": [
      "Epoch 1/10\n",
      "19/80 [======>.......................] - ETA: 0s - loss: 0.1076 - accuracy: 0.9589"
     ]
    },
    {
     "name": "stdout",
     "output_type": "stream",
     "text": [
      "80/80 [==============================] - 1s 8ms/step - loss: 0.0786 - accuracy: 0.9726\n",
      "Epoch 2/10\n",
      "80/80 [==============================] - 1s 9ms/step - loss: 0.0565 - accuracy: 0.9773\n",
      "Epoch 3/10\n",
      "80/80 [==============================] - 1s 9ms/step - loss: 0.0484 - accuracy: 0.9840\n",
      "Epoch 4/10\n",
      "80/80 [==============================] - 1s 9ms/step - loss: 0.0399 - accuracy: 0.9859\n",
      "Epoch 5/10\n",
      "80/80 [==============================] - 1s 9ms/step - loss: 0.0387 - accuracy: 0.9863\n",
      "Epoch 6/10\n",
      "80/80 [==============================] - 1s 9ms/step - loss: 0.1215 - accuracy: 0.9750\n",
      "Epoch 7/10\n",
      "80/80 [==============================] - 1s 9ms/step - loss: 0.2941 - accuracy: 0.9503\n",
      "Epoch 8/10\n",
      "80/80 [==============================] - 1s 9ms/step - loss: 0.1842 - accuracy: 0.9636\n",
      "Epoch 9/10\n",
      "80/80 [==============================] - 1s 9ms/step - loss: 0.5084 - accuracy: 0.9577\n",
      "Epoch 10/10\n",
      "80/80 [==============================] - 1s 9ms/step - loss: 0.0811 - accuracy: 0.9746\n"
     ]
    },
    {
     "data": {
      "text/plain": [
       "<keras.src.callbacks.History at 0x7f463c6a52a0>"
      ]
     },
     "execution_count": 10,
     "metadata": {},
     "output_type": "execute_result"
    }
   ],
   "source": [
    "modelo.fit(tf.constant(x_train_220617_bag), tf.cast(tf.constant(y_train_220617_bag), tf.float32), epochs=10)"
   ]
  },
  {
   "cell_type": "code",
   "execution_count": 11,
   "metadata": {},
   "outputs": [
    {
     "name": "stdout",
     "output_type": "stream",
     "text": [
      "35/35 [==============================] - 0s 5ms/step - loss: 152.5936 - accuracy: 0.5712\n"
     ]
    },
    {
     "data": {
      "text/plain": [
       "[152.59364318847656, 0.5711678862571716]"
      ]
     },
     "execution_count": 11,
     "metadata": {},
     "output_type": "execute_result"
    }
   ],
   "source": [
    "modelo.evaluate(x=x_test_220617_bag, y=y_test_220617_bag)"
   ]
  },
  {
   "cell_type": "code",
   "execution_count": 12,
   "metadata": {},
   "outputs": [
    {
     "name": "stderr",
     "output_type": "stream",
     "text": [
      "/home/cmonedero/TFG/tfg_env/lib/python3.10/site-packages/keras/src/engine/training.py:3103: UserWarning: You are saving your model as an HDF5 file via `model.save()`. This file format is considered legacy. We recommend using instead the native Keras format, e.g. `model.save('my_model.keras')`.\n",
      "  saving_api.save_model(\n"
     ]
    }
   ],
   "source": [
    "modelo.save('PerceptronMemo/perceptron.h5')"
   ]
  }
 ],
 "metadata": {
  "kernelspec": {
   "display_name": "tfg_env",
   "language": "python",
   "name": "python3"
  },
  "language_info": {
   "codemirror_mode": {
    "name": "ipython",
    "version": 3
   },
   "file_extension": ".py",
   "mimetype": "text/x-python",
   "name": "python",
   "nbconvert_exporter": "python",
   "pygments_lexer": "ipython3",
   "version": "3.10.12"
  }
 },
 "nbformat": 4,
 "nbformat_minor": 2
}
