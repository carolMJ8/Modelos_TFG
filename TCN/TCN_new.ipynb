{
 "cells": [
  {
   "cell_type": "code",
   "execution_count": 1,
   "metadata": {},
   "outputs": [
    {
     "name": "stderr",
     "output_type": "stream",
     "text": [
      "2024-05-15 16:11:36.738012: I tensorflow/core/util/port.cc:113] oneDNN custom operations are on. You may see slightly different numerical results due to floating-point round-off errors from different computation orders. To turn them off, set the environment variable `TF_ENABLE_ONEDNN_OPTS=0`.\n",
      "2024-05-15 16:11:36.793766: E external/local_xla/xla/stream_executor/cuda/cuda_dnn.cc:9261] Unable to register cuDNN factory: Attempting to register factory for plugin cuDNN when one has already been registered\n",
      "2024-05-15 16:11:36.793801: E external/local_xla/xla/stream_executor/cuda/cuda_fft.cc:607] Unable to register cuFFT factory: Attempting to register factory for plugin cuFFT when one has already been registered\n",
      "2024-05-15 16:11:36.795675: E external/local_xla/xla/stream_executor/cuda/cuda_blas.cc:1515] Unable to register cuBLAS factory: Attempting to register factory for plugin cuBLAS when one has already been registered\n",
      "2024-05-15 16:11:36.805643: I tensorflow/core/platform/cpu_feature_guard.cc:182] This TensorFlow binary is optimized to use available CPU instructions in performance-critical operations.\n",
      "To enable the following instructions: AVX2 AVX512F AVX512_VNNI FMA, in other operations, rebuild TensorFlow with the appropriate compiler flags.\n",
      "2024-05-15 16:11:37.846358: W tensorflow/compiler/tf2tensorrt/utils/py_utils.cc:38] TF-TRT Warning: Could not find TensorRT\n"
     ]
    }
   ],
   "source": [
    "import pandas as pd\n",
    "import math\n",
    "import numpy as np\n",
    "import matplotlib.pyplot as plt\n",
    "import tensorflow as tf\n",
    "from tensorflow import keras\n",
    "from tensorflow.keras.models import Sequential, Model, model_from_json\n",
    "from tensorflow.keras.models import load_model\n",
    "from tensorflow.keras.layers import *\n",
    "from tensorflow.keras.callbacks import ModelCheckpoint\n",
    "from tensorflow.keras.losses import MeanSquaredError\n",
    "from tensorflow.keras.metrics import RootMeanSquaredError\n",
    "from tensorflow.keras.optimizers import Adam\n",
    "from tcn import tcn, tcn_full_summary\n",
    "import DataFunctions as data"
   ]
  },
  {
   "cell_type": "code",
   "execution_count": 2,
   "metadata": {},
   "outputs": [
    {
     "name": "stdout",
     "output_type": "stream",
     "text": [
      "Obteniendo datos...\n"
     ]
    },
    {
     "name": "stdout",
     "output_type": "stream",
     "text": [
      "Hecho!\n",
      "\n"
     ]
    }
   ],
   "source": [
    "#Se obtienen los datos de los sensores y las etiquetas deducidas\n",
    "print(\"Obteniendo datos...\")\n",
    "data_2206_17_bag, tags_220617_bag = data.get_data('/home/cmonedero/TFG/User1/Motion/User1_220617_Bag.csv', '/home/cmonedero/TFG/User1/220617/Label_New_User1_220617.txt')"
   ]
  },
  {
   "cell_type": "code",
   "execution_count": 3,
   "metadata": {},
   "outputs": [
    {
     "name": "stdout",
     "output_type": "stream",
     "text": [
      "Hecho!\n",
      "\n",
      "Tamaño ventanas X -->  (3651, 500, 6)\n",
      "Tamaño ventanas Y -->  (3651,)\n"
     ]
    }
   ],
   "source": [
    "x_windows_220617_bag, y_windows_220617_bag = data.divide_data_arrays_into_windows(data_2206_17_bag, tags_220617_bag, moda=True, window_size=500)\n",
    "print(\"Tamaño ventanas X --> \", x_windows_220617_bag.shape)\n",
    "print(\"Tamaño ventanas Y --> \", y_windows_220617_bag.shape)"
   ]
  },
  {
   "cell_type": "code",
   "execution_count": 4,
   "metadata": {},
   "outputs": [
    {
     "name": "stdout",
     "output_type": "stream",
     "text": [
      "Shape x_train --> (2555, 500, 6)\n",
      "Shape y_train --> (2555,)\n",
      "Shape x_test --> (1096, 500, 6)\n",
      "Shape y_train --> (1096,)\n"
     ]
    }
   ],
   "source": [
    "x_train_220617_bag, y_train_220617_bag, x_test_220617_bag, y_test_220617_bag = data.divide_train_test(x_windows_220617_bag, y_windows_220617_bag, 0.7)\n",
    "print(f'Shape x_train --> {x_train_220617_bag.shape}')\n",
    "print(f'Shape y_train --> {y_train_220617_bag.shape}')\n",
    "print(f'Shape x_test --> {x_test_220617_bag.shape}')\n",
    "print(f'Shape y_train --> {y_test_220617_bag.shape}')"
   ]
  },
  {
   "cell_type": "code",
   "execution_count": 5,
   "metadata": {},
   "outputs": [
    {
     "name": "stdout",
     "output_type": "stream",
     "text": [
      "[1 2 5 6]\n"
     ]
    }
   ],
   "source": [
    "print(np.unique(y_train_220617_bag))"
   ]
  },
  {
   "cell_type": "code",
   "execution_count": 6,
   "metadata": {},
   "outputs": [
    {
     "name": "stderr",
     "output_type": "stream",
     "text": [
      "2024-05-15 16:11:54.602653: I tensorflow/core/common_runtime/gpu/gpu_device.cc:1929] Created device /job:localhost/replica:0/task:0/device:GPU:0 with 970 MB memory:  -> device: 0, name: NVIDIA A40, pci bus id: 0000:31:00.0, compute capability: 8.6\n",
      "2024-05-15 16:11:54.605126: I tensorflow/core/common_runtime/gpu/gpu_device.cc:1929] Created device /job:localhost/replica:0/task:0/device:GPU:1 with 40933 MB memory:  -> device: 1, name: NVIDIA A40, pci bus id: 0000:98:00.0, compute capability: 8.6\n"
     ]
    },
    {
     "name": "stdout",
     "output_type": "stream",
     "text": [
      "Shape del input despues de TCN (None, 500, 32)\n",
      "Shape después Flatten (None, 16000)\n",
      "Shape de la capa final (None, 8)\n"
     ]
    }
   ],
   "source": [
    "inputs = Input(shape=(500,6))\n",
    "x = inputs\n",
    "x = tcn.TCN(input_shape=(500,6),\n",
    "            use_skip_connections=False,\n",
    "            use_batch_norm=False,\n",
    "            use_weight_norm=False,\n",
    "            use_layer_norm=False,\n",
    "            return_sequences=True,\n",
    "            nb_filters=32)(x)\n",
    "print(f'Shape del input despues de TCN {x.shape}')\n",
    "x = Flatten()(x)\n",
    "print(f'Shape después Flatten {x.shape}')\n",
    "outputs = Dense(8, activation='softmax')(x)\n",
    "print(f'Shape de la capa final {outputs.shape}')\n",
    "\n",
    "modelo = keras.Model(inputs, outputs)\n",
    "\n",
    "# modelo = Sequential()\n",
    "# modelo.add(Dense(100, activation='relu'))\n",
    "# modelo.add(Dense(units=8))\n",
    "modelo.compile(loss='sparse_categorical_crossentropy', optimizer=Adam(learning_rate=0.001), metrics=['accuracy'])"
   ]
  },
  {
   "cell_type": "code",
   "execution_count": 8,
   "metadata": {},
   "outputs": [
    {
     "name": "stdout",
     "output_type": "stream",
     "text": [
      "Epoch 1/10\n"
     ]
    },
    {
     "name": "stderr",
     "output_type": "stream",
     "text": [
      "2024-05-15 16:12:09.662314: I external/local_xla/xla/stream_executor/cuda/cuda_dnn.cc:454] Loaded cuDNN version 8902\n",
      "2024-05-15 16:12:09.790676: I external/local_tsl/tsl/platform/default/subprocess.cc:304] Start cannot spawn child process: No such file or directory\n",
      "2024-05-15 16:12:10.066376: I external/local_tsl/tsl/platform/default/subprocess.cc:304] Start cannot spawn child process: No such file or directory\n",
      "2024-05-15 16:12:10.213852: W external/local_tsl/tsl/framework/bfc_allocator.cc:296] Allocator (GPU_0_bfc) ran out of memory trying to allocate 1.53GiB with freed_by_count=0. The caller indicates that this is not a failure, but this may mean that there could be performance gains if more memory were available.\n",
      "2024-05-15 16:12:10.213916: W external/local_tsl/tsl/framework/bfc_allocator.cc:296] Allocator (GPU_0_bfc) ran out of memory trying to allocate 1.53GiB with freed_by_count=0. The caller indicates that this is not a failure, but this may mean that there could be performance gains if more memory were available.\n",
      "2024-05-15 16:12:10.225613: W external/local_tsl/tsl/framework/bfc_allocator.cc:296] Allocator (GPU_0_bfc) ran out of memory trying to allocate 1.53GiB with freed_by_count=0. The caller indicates that this is not a failure, but this may mean that there could be performance gains if more memory were available.\n",
      "2024-05-15 16:12:10.225657: W external/local_tsl/tsl/framework/bfc_allocator.cc:296] Allocator (GPU_0_bfc) ran out of memory trying to allocate 1.53GiB with freed_by_count=0. The caller indicates that this is not a failure, but this may mean that there could be performance gains if more memory were available.\n",
      "2024-05-15 16:12:10.328667: W external/local_tsl/tsl/framework/bfc_allocator.cc:296] Allocator (GPU_0_bfc) ran out of memory trying to allocate 1.16GiB with freed_by_count=0. The caller indicates that this is not a failure, but this may mean that there could be performance gains if more memory were available.\n",
      "2024-05-15 16:12:10.328716: W external/local_tsl/tsl/framework/bfc_allocator.cc:296] Allocator (GPU_0_bfc) ran out of memory trying to allocate 1.16GiB with freed_by_count=0. The caller indicates that this is not a failure, but this may mean that there could be performance gains if more memory were available.\n",
      "2024-05-15 16:12:10.340497: W external/local_tsl/tsl/framework/bfc_allocator.cc:296] Allocator (GPU_0_bfc) ran out of memory trying to allocate 1.16GiB with freed_by_count=0. The caller indicates that this is not a failure, but this may mean that there could be performance gains if more memory were available.\n",
      "2024-05-15 16:12:10.340540: W external/local_tsl/tsl/framework/bfc_allocator.cc:296] Allocator (GPU_0_bfc) ran out of memory trying to allocate 1.16GiB with freed_by_count=0. The caller indicates that this is not a failure, but this may mean that there could be performance gains if more memory were available.\n",
      "2024-05-15 16:12:10.485308: I external/local_xla/xla/service/service.cc:168] XLA service 0x7f126c6db500 initialized for platform CUDA (this does not guarantee that XLA will be used). Devices:\n",
      "2024-05-15 16:12:10.485362: I external/local_xla/xla/service/service.cc:176]   StreamExecutor device (0): NVIDIA A40, Compute Capability 8.6\n",
      "2024-05-15 16:12:10.485375: I external/local_xla/xla/service/service.cc:176]   StreamExecutor device (1): NVIDIA A40, Compute Capability 8.6\n",
      "2024-05-15 16:12:10.502933: I tensorflow/compiler/mlir/tensorflow/utils/dump_mlir_util.cc:269] disabling MLIR crash reproducer, set env var `MLIR_CRASH_REPRODUCER_DIRECTORY` to enable.\n",
      "WARNING: All log messages before absl::InitializeLog() is called are written to STDERR\n",
      "I0000 00:00:1715789530.691721  977866 device_compiler.h:186] Compiled cluster using XLA!  This line is logged at most once for the lifetime of the process.\n",
      "2024-05-15 16:12:11.605408: W external/local_tsl/tsl/framework/bfc_allocator.cc:296] Allocator (GPU_0_bfc) ran out of memory trying to allocate 1.05GiB with freed_by_count=0. The caller indicates that this is not a failure, but this may mean that there could be performance gains if more memory were available.\n",
      "2024-05-15 16:12:11.620516: W external/local_tsl/tsl/framework/bfc_allocator.cc:296] Allocator (GPU_0_bfc) ran out of memory trying to allocate 1.05GiB with freed_by_count=0. The caller indicates that this is not a failure, but this may mean that there could be performance gains if more memory were available.\n"
     ]
    },
    {
     "name": "stdout",
     "output_type": "stream",
     "text": [
      "80/80 [==============================] - 9s 31ms/step - loss: 416.4726 - accuracy: 0.5898\n",
      "Epoch 2/10\n",
      "80/80 [==============================] - 2s 20ms/step - loss: 4.3521 - accuracy: 0.8204\n",
      "Epoch 3/10\n",
      "80/80 [==============================] - 2s 20ms/step - loss: 2.3238 - accuracy: 0.8701\n",
      "Epoch 4/10\n",
      "80/80 [==============================] - 2s 20ms/step - loss: 4.6387 - accuracy: 0.8333\n",
      "Epoch 5/10\n",
      "80/80 [==============================] - 2s 20ms/step - loss: 3.9614 - accuracy: 0.8622\n",
      "Epoch 6/10\n",
      "80/80 [==============================] - 2s 20ms/step - loss: 2.7810 - accuracy: 0.8814\n",
      "Epoch 7/10\n",
      "80/80 [==============================] - 2s 20ms/step - loss: 1.4665 - accuracy: 0.9123\n",
      "Epoch 8/10\n",
      "80/80 [==============================] - 2s 20ms/step - loss: 3.2472 - accuracy: 0.8771\n",
      "Epoch 9/10\n",
      "80/80 [==============================] - 2s 20ms/step - loss: 3.4313 - accuracy: 0.8877\n",
      "Epoch 10/10\n",
      "80/80 [==============================] - 2s 20ms/step - loss: 2.8595 - accuracy: 0.9041\n"
     ]
    },
    {
     "data": {
      "text/plain": [
       "<keras.src.callbacks.History at 0x7f17b8168970>"
      ]
     },
     "execution_count": 8,
     "metadata": {},
     "output_type": "execute_result"
    }
   ],
   "source": [
    "modelo.fit(tf.constant(x_train_220617_bag), tf.cast(tf.constant(y_train_220617_bag), tf.float32), epochs=10)"
   ]
  },
  {
   "cell_type": "code",
   "execution_count": 9,
   "metadata": {},
   "outputs": [
    {
     "name": "stdout",
     "output_type": "stream",
     "text": [
      "35/35 [==============================] - 1s 18ms/step - loss: 341.5082 - accuracy: 0.7026\n"
     ]
    }
   ],
   "source": [
    "evals = modelo.evaluate(tf.constant(x_test_220617_bag), tf.cast(tf.constant(y_test_220617_bag), tf.float32))"
   ]
  },
  {
   "cell_type": "code",
   "execution_count": 10,
   "metadata": {},
   "outputs": [
    {
     "name": "stderr",
     "output_type": "stream",
     "text": [
      "/home/cmonedero/TFG/tfg_env/lib/python3.10/site-packages/keras/src/engine/training.py:3103: UserWarning: You are saving your model as an HDF5 file via `model.save()`. This file format is considered legacy. We recommend using instead the native Keras format, e.g. `model.save('my_model.keras')`.\n",
      "  saving_api.save_model(\n"
     ]
    }
   ],
   "source": [
    "modelo.save('TCNMemo/tcn.h5')"
   ]
  },
  {
   "cell_type": "code",
   "execution_count": 22,
   "metadata": {},
   "outputs": [],
   "source": [
    "modelo_tonto_json = modelo_tonto.to_json()\n",
    "with open('TCNMemo/model.json', \"w\") as json_file:\n",
    "    json_file.write(modelo_tonto_json)\n",
    "modelo.save_weights('TCNMemo/weights.h5')"
   ]
  }
 ],
 "metadata": {
  "kernelspec": {
   "display_name": "tfg_env",
   "language": "python",
   "name": "python3"
  },
  "language_info": {
   "codemirror_mode": {
    "name": "ipython",
    "version": 3
   },
   "file_extension": ".py",
   "mimetype": "text/x-python",
   "name": "python",
   "nbconvert_exporter": "python",
   "pygments_lexer": "ipython3",
   "version": "3.10.12"
  }
 },
 "nbformat": 4,
 "nbformat_minor": 2
}
